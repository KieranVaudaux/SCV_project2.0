{
 "cells": [
  {
   "cell_type": "markdown",
   "metadata": {},
   "source": [
    "## Compact interactive visualization"
   ]
  },
  {
   "cell_type": "markdown",
   "metadata": {},
   "source": [
    "In this notebook, we present a way of interacting with the data via a slider. More precisely, one may move a slider through time and observe the resulting changes in various time curves plotted from the data. This method may be applied to multiple types of datasets."
   ]
  },
  {
   "cell_type": "code",
   "execution_count": 2,
   "metadata": {},
   "outputs": [
    {
     "name": "stdout",
     "output_type": "stream",
     "text": [
      "/Users/nyckeesluca/Desktop/SVC/SCV_project1/notebooks\n"
     ]
    }
   ],
   "source": [
    "import numpy as np\n",
    "import pandas as pd\n",
    "from datetime import datetime\n",
    "import os\n",
    "import matplotlib\n",
    "\n",
    "from visual_features import *\n",
    "\n",
    "print(os.getcwd())\n",
    "\n",
    "df = pd.read_table('../data/observatoire-geneve/TG_STAID000241.txt', sep = ',',\n",
    "                                names = ['SOUID','DATE','TG','Q_TG'], skiprows = range(0,20))"
   ]
  },
  {
   "cell_type": "code",
   "execution_count": 3,
   "metadata": {},
   "outputs": [],
   "source": [
    "df['Year'] = [int(str(d)[:4]) for d in df.DATE]\n",
    "df['Month'] = [int(str(d)[4:6]) for d in df.DATE]\n",
    "df['Day'] = [int(str(d)[6:8]) for d in df.DATE]\n",
    "\n",
    "#Compute the day of the year for each year\n",
    "day_of_year = np.array(len(df['Day']))\n",
    "\n",
    "adate = [datetime.strptime(str(date),\"%Y%m%d\") for date in df['DATE']]\n",
    "df['Day_of_year'] = [d.timetuple().tm_yday for d in adate]"
   ]
  },
  {
   "cell_type": "code",
   "execution_count": 4,
   "metadata": {},
   "outputs": [],
   "source": [
    "df_s = pd.read_table('../data/SS_STAID000241.txt', sep = ',',\n",
    "                                names = ['SOUID','DATE','TG','Q_TG'], skiprows = range(0,20))"
   ]
  },
  {
   "cell_type": "code",
   "execution_count": 5,
   "metadata": {},
   "outputs": [],
   "source": [
    "df_s['Year'] = [int(str(d)[:4]) for d in df_s.DATE]\n",
    "df_s['Month'] = [int(str(d)[4:6]) for d in df_s.DATE]\n",
    "df_s['Day'] = [int(str(d)[6:8]) for d in df_s.DATE]\n",
    "\n",
    "#Compute the day of the year for each year\n",
    "day_of_year_s = np.array(len(df['Day']))\n",
    "\n",
    "adate_s = [datetime.strptime(str(date),\"%Y%m%d\") for date in df_s['DATE']]\n",
    "df_s['Day_of_year'] = [d.timetuple().tm_yday for d in adate_s]"
   ]
  },
  {
   "cell_type": "code",
   "execution_count": 6,
   "metadata": {},
   "outputs": [],
   "source": [
    "years = df.Year.unique()"
   ]
  },
  {
   "cell_type": "markdown",
   "metadata": {},
   "source": [
    "### Mean temperature"
   ]
  },
  {
   "cell_type": "code",
   "execution_count": 7,
   "metadata": {},
   "outputs": [
    {
     "data": {
      "application/vnd.jupyter.widget-view+json": {
       "model_id": "30921cb74378448fa9025f3b9901a6e6",
       "version_major": 2,
       "version_minor": 0
      },
      "text/plain": [
       "interactive(children=(IntSlider(value=0, description='x', max=120), Output()), _dom_classes=('widget-interact'…"
      ]
     },
     "metadata": {},
     "output_type": "display_data"
    }
   ],
   "source": [
    "plot_stats_window(years,df,\"Mean temperature\")"
   ]
  },
  {
   "cell_type": "markdown",
   "metadata": {},
   "source": [
    "### Sunshine"
   ]
  },
  {
   "cell_type": "code",
   "execution_count": 7,
   "metadata": {},
   "outputs": [
    {
     "data": {
      "application/vnd.jupyter.widget-view+json": {
       "model_id": "96d36553b34f4e75982181d680d2d59c",
       "version_major": 2,
       "version_minor": 0
      },
      "text/plain": [
       "interactive(children=(IntSlider(value=0, description='x', max=120), Output()), _dom_classes=('widget-interact'…"
      ]
     },
     "metadata": {},
     "output_type": "display_data"
    }
   ],
   "source": [
    "plot_stats_window(years,df_s,\"Sunshine\")"
   ]
  },
  {
   "cell_type": "code",
   "execution_count": null,
   "metadata": {},
   "outputs": [],
   "source": []
  }
 ],
 "metadata": {
  "kernelspec": {
   "display_name": "Python 3",
   "language": "python",
   "name": "python3"
  },
  "language_info": {
   "codemirror_mode": {
    "name": "ipython",
    "version": 3
   },
   "file_extension": ".py",
   "mimetype": "text/x-python",
   "name": "python",
   "nbconvert_exporter": "python",
   "pygments_lexer": "ipython3",
   "version": "3.8.3"
  }
 },
 "nbformat": 4,
 "nbformat_minor": 4
}
