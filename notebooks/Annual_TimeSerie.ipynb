{
 "cells": [
  {
   "cell_type": "code",
   "execution_count": 18,
   "id": "faeeae15",
   "metadata": {},
   "outputs": [],
   "source": [
    "import scipy as sc\n",
    "import matplotlib as mpl\n",
    "import matplotlib.pyplot as plt\n",
    "import seaborn as sns\n",
    "import numpy as np\n",
    "import pandas as pd\n",
    "from datetime import datetime\n",
    "from datetime import date\n",
    "import statistics as st\n",
    "from statsmodels.graphics.gofplots import qqplot\n",
    "from statsmodels.tsa.seasonal import seasonal_decompose\n",
    "from statsmodels.tsa.seasonal import STL\n",
    "from statsmodels.tsa.arima.model import ARIMA\n",
    "from statsmodels.tsa.stattools import adfuller, kpss\n",
    "from statsmodels.distributions.empirical_distribution import ECDF\n",
    "from TimeSerie_fct import create_monthly_avg_time_serie\n",
    "import statsmodels.api as sm\n",
    "from sklearn.linear_model import LinearRegression\n",
    "from statsmodels.tsa.stattools import acf, pacf\n",
    "import os\n",
    "\n",
    "\n",
    "data_temperature = pd.read_table('../data/observatoire-geneve/TG_STAID000241.txt',sep = ',',\n",
    "                                names = ['SOUID','DATE','TG','Q_TG'], skiprows = range(0,20))\n",
    "\n",
    "data_temperature.drop(data_temperature[ data_temperature['Q_TG'] == 9 ].index, inplace = True)\n",
    "data_temperature['Year'] = [int(str(d)[:4]) for d in data_temperature.DATE]\n",
    "data_temperature['Month'] = [int(str(d)[4:6]) for d in data_temperature.DATE]\n",
    "data_temperature['Day'] = [int(str(d)[6:8]) for d in data_temperature.DATE]\n",
    "\n",
    "#Compute the day of the year for each year\n",
    "day_of_year = np.array(len(data_temperature['Day']))\n",
    "\n",
    "adate = [datetime.strptime(str(date),\"%Y%m%d\") for date in data_temperature.DATE]\n",
    "data_temperature['Day_of_year'] = [d.timetuple().tm_yday for d in adate]\n",
    "data_temperature.TG = data_temperature.TG/10."
   ]
  },
  {
   "cell_type": "code",
   "execution_count": 19,
   "id": "9000c3c1",
   "metadata": {},
   "outputs": [],
   "source": [
    "df = data_temperature.copy()\n",
    "plt.style.use(\"ggplot\")"
   ]
  },
  {
   "cell_type": "code",
   "execution_count": 20,
   "id": "50b991c3",
   "metadata": {},
   "outputs": [],
   "source": [
    "# Transformation en moyenne annuelle\n",
    "Years = df.Year.unique()\n",
    "data_Y = pd.DataFrame(np.array([[df[df.Year == y].TG.mean(),\n",
    "                        df[df.Year == y].TG.median(),df[df.Year == y].TG.std(),y] for y in Years]),\n",
    "                     index = (np.arange(np.shape(Years)[0])), columns=[\"Mean\",\"Median\",\"Std\",\"Years\"])\n",
    "#Rupture de la moyenne en 1962"
   ]
  },
  {
   "cell_type": "code",
   "execution_count": 4,
   "id": "88b7f29e",
   "metadata": {},
   "outputs": [],
   "source": [
    "# QQ-plot of the annual mean\n",
    "fig = qqplot(data_Y.Mean,loc = data_Y.Mean.mean(), scale = data_Y.Mean.std(), line ='45')\n",
    "fig.suptitle(\"QQ-plot\",y = 0.95,size='xx-large',weight = 'roman')\n",
    "#plt.show()\n",
    "\n",
    "plt.savefig(\"figure/Annual_qqplot.png\", dpi=300, bbox_inches='tight')\n",
    "plt.close(fig)"
   ]
  },
  {
   "cell_type": "code",
   "execution_count": 5,
   "id": "0927737c",
   "metadata": {},
   "outputs": [],
   "source": [
    "ecdf = ECDF(data_Y.Mean)\n",
    "mean = data_Y.Mean.mean()\n",
    "x = np.linspace(-4.+mean,4.+mean,5000)\n",
    "\n",
    "fig, axs = plt.subplots(1,2, figsize=(14,4))\n",
    "\n",
    "std = data_Y.Mean.std()\n",
    "axs[0].plot(x,ecdf(x),\"k\",label='ecdf')\n",
    "axs[0].plot(x,sc.stats.norm.cdf(x,loc = data_Y.Mean.mean(),scale = std), \"b--\", label = 'cdf')\n",
    "axs[1].plot(x,np.abs(ecdf(x)-sc.stats.norm.cdf(x,loc = data_Y.Mean.mean() ,scale = std)),color = 'k')\n",
    "\n",
    "axs[0].set(xlabel=\"x\",ylabel=\"P (X<=x)\")\n",
    "axs[1].set(xlabel=\"x\",ylabel=\"Absolute deviation\")\n",
    "axs[0].set_title(\"Ecdf vs cdf\")\n",
    "axs[1].set_title(\"Absolute deviation of the ecdf from the cdf\")\n",
    "\n",
    "axs[0].legend(loc = (0.05,0.8))\n",
    "\n",
    "plt.savefig(\"figure/Annual_ecdf_cdf.png\", dpi=300, bbox_inches='tight')\n",
    "plt.close(fig)"
   ]
  },
  {
   "cell_type": "code",
   "execution_count": 55,
   "id": "bc858018",
   "metadata": {},
   "outputs": [],
   "source": [
    "fig, axs = plt.subplots(3, figsize=(10,8))\n",
    "\n",
    "axs[0].plot(Years,data_Y.Mean, color = 'k')\n",
    "axs[0].set_title(\"Annual mean temperature from 1901 to 2021\")\n",
    "axs[1].plot(Years,data_Y.Median, color = 'k')\n",
    "axs[1].set_title(\"Annual median temperature from 1901 to 2021\")\n",
    "axs[2].plot(Years,data_Y.Std, color = 'k')\n",
    "axs[2].set_title(\"Annual standard deviation of temperature from 1901 to 2021\")\n",
    "plt.subplots_adjust(left=0.125,\n",
    "                    bottom=0.1, \n",
    "                    right=0.9, \n",
    "                    top=0.9, \n",
    "                    wspace=0.4, \n",
    "                    hspace=0.6)\n",
    "axs[0].set(xlabel=\"Years\",ylabel=\"Temperature (°C)\")\n",
    "axs[1].set(xlabel=\"Years\",ylabel=\"Temperature (°C)\")\n",
    "axs[2].set(xlabel=\"Years\",ylabel=\"Standard deviation(°C)\")\n",
    "\n",
    "plt.savefig(\"figure/Annual_mean_median_std.png\", dpi=300, bbox_inches='tight')\n",
    "plt.close(fig)"
   ]
  },
  {
   "cell_type": "code",
   "execution_count": 56,
   "id": "15bc4c54",
   "metadata": {},
   "outputs": [],
   "source": [
    "#Calcul des anomalies normalisées\n",
    "\n",
    "mean = data_Y.Mean.mean()\n",
    "data_Y[\"anomalie_norm\"] = (data_Y.Mean-mean)/(data_Y.Mean-mean).std()\n",
    "\n",
    "mean1 = data_Y[data_Y.Years<=1962].Mean.mean()\n",
    "mean2 = data_Y[data_Y.Years>1962].Mean.mean()\n",
    "anom1 = (data_Y[data_Y.Years<=1962].Mean-mean1)/(data_Y[data_Y.Years<=1962].Mean-mean1).std()\n",
    "anom2 = (data_Y[data_Y.Years>1962].Mean-mean2)/(data_Y[data_Y.Years>1962].Mean-mean2).std()"
   ]
  },
  {
   "cell_type": "code",
   "execution_count": 58,
   "id": "3f276b6c",
   "metadata": {},
   "outputs": [],
   "source": [
    "fig, axs = plt.subplots(3, figsize=(10,6))\n",
    "\n",
    "fig.suptitle(\"Annual standardized temperature anomalies :\",y = 1.1,size='x-large',weight = 'roman')\n",
    "\n",
    "axs[0].bar(Years,data_Y.anomalie_norm, color='k')\n",
    "axs[0].set_title(\"Over the period 1901-2021\")\n",
    "axs[1].bar(Years[Years<=1962],anom1, color = 'k')\n",
    "axs[1].set_title(\"Over the period 1901-1962\")\n",
    "axs[2].bar(Years[Years>1962],anom2, color = 'k')\n",
    "axs[2].set_title(\"Over the period 1963-2021\")\n",
    "\n",
    "axs[0].set(xlabel=\"Years\")\n",
    "axs[1].set(xlabel=\"Years\")\n",
    "axs[2].set(xlabel=\"Years\")\n",
    "\n",
    "plt.subplots_adjust(left=0.125,\n",
    "                    bottom=0.1, \n",
    "                    right=0.9, \n",
    "                    top=1, \n",
    "                    wspace=0.4, \n",
    "                    hspace=0.6)\n",
    "\n",
    "plt.savefig(\"figure/Annual_anomalie_temperature.png\", dpi=300, bbox_inches='tight')\n",
    "plt.close(fig)"
   ]
  },
  {
   "cell_type": "code",
   "execution_count": 9,
   "id": "fbceda8d",
   "metadata": {},
   "outputs": [],
   "source": [
    "#Stationarity test on annual mean with addfuller\n",
    "test_addfuller = adfuller(data_Y.Mean, maxlag=None, regression='nc', autolag='AIC'\n",
    "                          , store=False, regresults=False)\n",
    "\n",
    "g = open('txt/addfullerTest_annual.txt','w')\n",
    "g.write(\"Annual mean (no constant) : p-value = \"+str(test_addfuller[1])+'\\n')\n",
    "g.close()\n",
    "\n",
    "#Stationarity test on annual mean with addfuller\n",
    "test_addfuller = adfuller(data_Y.Mean, maxlag=None, regression='ct', autolag='AIC'\n",
    "                          , store=False, regresults=False)\n",
    "\n",
    "g = open('txt/addfullerTest_annual.txt','a')\n",
    "g.write(\"Annual mean (constant + trend) : p-value = \"+str(test_addfuller[1])+'\\n')\n",
    "g.close()"
   ]
  },
  {
   "cell_type": "code",
   "execution_count": 64,
   "id": "1bdaf102",
   "metadata": {},
   "outputs": [
    {
     "name": "stderr",
     "output_type": "stream",
     "text": [
      "/Users/kieranvaudaux/opt/anaconda3/lib/python3.8/site-packages/statsmodels/graphics/tsaplots.py:348: FutureWarning: The default method 'yw' can produce PACF values outside of the [-1,1] interval. After 0.13, the default will change tounadjusted Yule-Walker ('ywm'). You can use this method now by setting method='ywm'.\n",
      "  warnings.warn(\n"
     ]
    }
   ],
   "source": [
    "from statsmodels.tsa.stattools import acf, pacf\n",
    "from statsmodels.graphics.tsaplots import plot_acf, plot_pacf\n",
    "\n",
    "fig, axes = plt.subplots(1,2,figsize=(16,3), dpi= 300)\n",
    "\n",
    "fig.suptitle(\"ACF and PACF of annual mean temperature\",y = 1.1,size='x-large',weight = 'roman')\n",
    "\n",
    "plot_acf(data_Y.Mean, lags=50,ax=axes[0], color='k',zero = False)\n",
    "plot_pacf(data_Y.Mean, lags=50,ax=axes[1], color='k',zero = False)\n",
    "\n",
    "axes[0].set(xlabel=\"lags\")\n",
    "axes[1].set(xlabel=\"lags\")\n",
    "\n",
    "plt.savefig(\"figure/Annual_acf_pacf.png\", dpi=300, bbox_inches='tight')\n",
    "plt.close(fig)"
   ]
  },
  {
   "cell_type": "code",
   "execution_count": 189,
   "id": "e6ca9127",
   "metadata": {},
   "outputs": [],
   "source": [
    "#Test U de Mann-Whitney\n",
    "# Null hypothesis is that X and Y the probability of X being \n",
    "# greater than Y is equal to the probability of Y being greater than X.\n",
    "\n",
    "p_values = np.array([])\n",
    "\n",
    "for i in range(1,np.shape(data_Y.Mean)[0]-1):\n",
    "    x = data_Y.Mean[:i]\n",
    "    y = data_Y.Mean[i:]\n",
    "    p = np.array([sc.stats.mannwhitneyu(x, y, use_continuity=True, alternative='two-sided').pvalue])\n",
    "    # p = np.array([sc.stats.kendalltau(x, y).pvalue])\n",
    "    p_values = np.concatenate([p_values,p])\n",
    "\n",
    "alpha = 0.05\n",
    "\n",
    "fig = plt.figure(figsize=(8,4), dpi=300, tight_layout = True)\n",
    "fig.suptitle(\"P-values of the Mann-Whitney U test\",y = 1.,size='x-large',weight = 'roman')\n",
    "\n",
    "for i in range(1,np.shape(data_Y.Mean)[0]-1):\n",
    "    if (p_values[i-1]>alpha):\n",
    "        line1, = plt.plot(i,p_values[i-1],'o',color='red',label = 'p-value > '+str(alpha))\n",
    "    else:\n",
    "        line2, =plt.plot(i,p_values[i-1],'o',color='grey',label='p-value <= '+str(alpha))\n",
    "\n",
    "        plt.axhline(y=0.05,linestyle='--',label='p_value = '+str(alpha))\n",
    "\n",
    "fig.legend([line1,line2],['p-value > '+str(alpha),'p-value <= '+str(alpha)],loc = (0.775,0.73))\n",
    "plt.xlabel('Size of \\'left\\' sample in the U test')\n",
    "plt.ylabel('p-values')\n",
    "\n",
    "plt.savefig(\"figure/p_values_MannWhitneyTest.png\", dpi=300, bbox_inches='tight')\n",
    "plt.close(fig)\n",
    "\n",
    "# We can easily reject the null hypothesis at a level of 0.05 (or smaller)"
   ]
  },
  {
   "cell_type": "code",
   "execution_count": 12,
   "id": "c3842359",
   "metadata": {},
   "outputs": [],
   "source": [
    "#Test Q de Ljung-Box\n",
    "\n",
    "test_Q = sm.stats.acorr_ljungbox(data_Y.Mean, lags=range(1,50), return_df=True,boxpierce=True)\n",
    "\n",
    "p_values_McLeod_Li = sm.stats.acorr_ljungbox(data_Y.Mean**2, lags=range(1,50), return_df=True).lb_pvalue\n",
    "p_values_Pierce = test_Q.lb_pvalue\n",
    "p_values_Ljung = test_Q.bp_pvalue\n",
    "\n",
    "fig = plt.figure(figsize=(8,4), dpi=300, tight_layout = True)\n",
    "fig.suptitle(\"P-values of the Ljung-Box ,Box-Pierce test and McLeod-Li\",y = 0.95\n",
    "             ,size='x-large',weight = 'roman')\n",
    "\n",
    "\n",
    "plt.plot(p_values_Pierce,'o-',markersize = 4,label='Box-Pierce')\n",
    "plt.plot(p_values_Ljung,'-o',markersize = 4,label='Ljung-Box')\n",
    "plt.plot(p_values_McLeod_Li,'-o',markersize = 4,label='McLeod-Li')\n",
    "plt.semilogy()\n",
    "\n",
    "fig.legend(loc = (0.82,0.7))\n",
    "plt.xlabel('Autocorrelation lags')\n",
    "plt.ylabel('p-values')\n",
    "\n",
    "plt.savefig(\"figure/p_values_Ljung_Pierce_McLeod.png\", dpi=300, bbox_inches='tight')\n",
    "plt.close(fig)"
   ]
  },
  {
   "cell_type": "markdown",
   "id": "a41c240a",
   "metadata": {},
   "source": [
    "# Definition generic function for plots"
   ]
  },
  {
   "cell_type": "code",
   "execution_count": 58,
   "id": "c423fa2c",
   "metadata": {},
   "outputs": [],
   "source": [
    "def plot_ljung_pierce(data, loca = (0.82,0.7), semilog_y = True,fname ='figure/p_values_Ljung_Pierce_McLeod_test.png', closefig = False,alpha = 0.05,df=0):\n",
    "    test_Q = sm.stats.acorr_ljungbox(data, lags=range(1,50), return_df=True,boxpierce=True,model_df = df)\n",
    "\n",
    "    p_values_McLeod_Li = sm.stats.acorr_ljungbox(data**2, lags=range(1,50), return_df=True,model_df = df).lb_pvalue\n",
    "    p_values_Pierce = test_Q.lb_pvalue\n",
    "    p_values_Ljung = test_Q.bp_pvalue\n",
    "    \n",
    "    fig = plt.figure(figsize=(9,5), dpi=300, tight_layout = True)\n",
    "    fig.suptitle(\"P-values of the Ljung-Box ,Box-Pierce and McLeod-Li Tests\",y = 0.95\n",
    "                 ,size='x-large',weight = 'roman')\n",
    "\n",
    "\n",
    "    plt.plot(p_values_Pierce,'o-',markersize = 4,label='Box-Pierce')\n",
    "    plt.plot(p_values_Ljung,'-o',markersize = 4,label='Ljung-Box')\n",
    "    plt.plot(p_values_McLeod_Li,'-o',markersize = 4,label='McLeod-Li')\n",
    "    \n",
    "    if (semilog_y): plt.semilogy()\n",
    "    plt.axhline(y=alpha,linestyle='--',label='p_value = '+str(alpha))\n",
    "    fig.legend(loc = loca)\n",
    "    plt.xlabel('Autocorrelation lags')\n",
    "    plt.ylabel('p-values')\n",
    "\n",
    "    plt.savefig(fname, dpi=300, bbox_inches='tight')\n",
    "    if (closefig) : plt.close(fig)\n",
    "    return "
   ]
  },
  {
   "cell_type": "code",
   "execution_count": 68,
   "id": "49c9a3a1",
   "metadata": {},
   "outputs": [],
   "source": [
    "def plot_acf_pacf(data,lag = 50,closefig=False,fname = \"figure/Annual_acf_pacf_test.png\",title = 'ACF and PACF'):\n",
    "    fig, axes = plt.subplots(1,2,figsize=(16,3), dpi= 300)\n",
    "    \n",
    "    fig.suptitle(title,y = 1.1,size='x-large',weight = 'roman')\n",
    "    \n",
    "    plot_acf(data, lags=lag,ax=axes[0], color='k',zero = False)\n",
    "    plot_pacf(data, lags=lag,ax=axes[1], color='k',zero = False,method='ywm')\n",
    "    \n",
    "    axes[0].set(xlabel=\"lags\")\n",
    "    axes[1].set(xlabel=\"lags\")\n",
    "    \n",
    "    \n",
    "    plt.savefig(fname, dpi=300, bbox_inches='tight')\n",
    "    if (closefig): plt.close(fig)\n",
    "    return"
   ]
  },
  {
   "cell_type": "code",
   "execution_count": 60,
   "id": "c11d875b",
   "metadata": {},
   "outputs": [],
   "source": [
    "def plot_test_U_MannWhitney(data,alt = 'two-sided',alpha = 0.05, lag = 1,loca = (0.775,0.73),fname=\"figure/p_values_MannWhitneyTest_test.png\",closefig=False):\n",
    "    p_values = np.array([])\n",
    "        \n",
    "    for i in range(lag,np.shape(data)[0]-lag):\n",
    "        x = data[:i]\n",
    "        y = data[i:]\n",
    "        p = np.array([sc.stats.mannwhitneyu(x, y, use_continuity=True, alternative=alt).pvalue])\n",
    "        p_values = np.concatenate([p_values,p])\n",
    "\n",
    "    \n",
    "    fig = plt.figure(figsize=(9,5), dpi=300, tight_layout = True)\n",
    "    fig.suptitle(\"P-values of the Mann-Whitney U test\",y = 1.,size='x-large',weight = 'roman')\n",
    "    \n",
    "    line1, =plt.plot([],'o',color='red',label='p-value > '+str(alpha))\n",
    "    line2, =plt.plot([],'o',color='grey',label='p-value <= '+str(alpha))\n",
    "    \n",
    "    for i in range(lag,np.shape(data)[0]-lag):\n",
    "        if (p_values[i-1]>alpha):\n",
    "            line1, = plt.plot(i,p_values[i-1],'o',color='red',label = 'p-value > '+str(alpha))\n",
    "        else:\n",
    "            line2, =plt.plot(i,p_values[i-1],'o',color='grey',label='p-value <= '+str(alpha))\n",
    "    \n",
    "        plt.axhline(y=alpha,linestyle='--',label='p_value = '+str(alpha))\n",
    "\n",
    "    fig.legend([line1,line2],['p-value > '+str(alpha),'p-value <= '+str(alpha)],loc = loca)\n",
    "    plt.xlabel('Size of \\'left\\' sample in the U test')\n",
    "    plt.ylabel('p-values')\n",
    "   # plt.yaxis.set_ticks([0,0.1,0.2,0.3,0.4,0.5,0.6,0.7,0.8,0.9,1]) \n",
    "    plt.gca().yaxis.set_ticks([0,0.1,0.2,0.3,0.4,0.5,0.6,0.7,0.8,0.9,1], minor = True)\n",
    "    \n",
    "    plt.savefig(fname, dpi=300, bbox_inches='tight')\n",
    "    if (closefig): plt.close(fig)\n",
    "    \n",
    "    return"
   ]
  },
  {
   "cell_type": "code",
   "execution_count": 61,
   "id": "f73b28d9",
   "metadata": {},
   "outputs": [],
   "source": [
    "def qq_plot(data,fname = \"figure/Annual_qqplot_test.png\"):\n",
    "    fig = qqplot(data,loc = data.mean(), scale = data.std(), line ='45')\n",
    "    fig.suptitle(\"QQ-plot\",y = 0.95,size='xx-large',weight = 'roman')\n",
    "    plt.show()\n",
    "    \n",
    "    plt.savefig(fname, dpi=300, bbox_inches='tight')\n",
    "    plt.close(fig)\n",
    "    return"
   ]
  },
  {
   "cell_type": "code",
   "execution_count": 62,
   "id": "0992f87a",
   "metadata": {},
   "outputs": [],
   "source": [
    "def ecdf_vs_cdf(data,fname =\"figure/Annual_ecdf_cdf_test.png\", closefig=False):\n",
    "    ecdf = ECDF(data)\n",
    "    mean = data.mean()\n",
    "    std = data.std()\n",
    "    x = np.linspace(-4.+mean,4.+mean,5000)\n",
    "    \n",
    "    fig, axs = plt.subplots(1,2, figsize=(14,4))\n",
    "    \n",
    "    axs[0].plot(x,ecdf(x),\"k\",label='ecdf')\n",
    "    axs[0].plot(x,sc.stats.norm.cdf(x,loc = mean,scale = std), \"b--\", label = 'cdf')\n",
    "    axs[1].plot(x,np.abs(ecdf(x)-sc.stats.norm.cdf(x,loc = mean ,scale = std)),color = 'k')\n",
    "    \n",
    "    axs[0].set(xlabel=\"x\",ylabel=\"P (X<=x)\")\n",
    "    axs[1].set(xlabel=\"x\",ylabel=\"Absolute deviation\")\n",
    "    axs[0].set_title(\"Ecdf vs cdf\")\n",
    "    axs[1].set_title(\"Absolute deviation of the ecdf from the cdf\")\n",
    "    \n",
    "    axs[0].legend(loc = (0.05,0.8))\n",
    "    \n",
    "    plt.savefig(fname, dpi=300, bbox_inches='tight')\n",
    "    if (closefig): plt.close(fig)\n",
    "    return"
   ]
  },
  {
   "cell_type": "markdown",
   "id": "de626f8e",
   "metadata": {},
   "source": [
    "# Model Identification and Selection"
   ]
  },
  {
   "cell_type": "code",
   "execution_count": 21,
   "id": "dcaa6859",
   "metadata": {},
   "outputs": [],
   "source": [
    "break_year = 1962\n",
    "\n",
    "\n",
    "mean1 = data_Y.Mean[data_Y.Years<break_year].mean()\n",
    "data1 = data_Y[data_Y.Years<break_year].copy()\n",
    "\n",
    "mean2 = data_Y.Mean[data_Y.Years>=break_year].mean()\n",
    "data2 = data_Y[data_Y.Years>=break_year].copy()\n",
    "\n",
    "n = np.shape(data_Y.Mean)[0]\n",
    "t = np.array(data_Y.Years).reshape((n,1))\n",
    "one = np.ones(shape=(np.shape(t)[0],1))\n",
    "X = np.concatenate([one,t],axis = 1)\n",
    "\n",
    "n1 = np.shape(data1.Mean)[0]\n",
    "n2 = np.shape(data2.Mean)[0]\n",
    "t1 = np.array(data1.Years).reshape((n1,1))\n",
    "t2 = np.array(data2.Years).reshape((n2,1))\n",
    "one1 = np.ones(shape=(np.shape(t1)[0],1))\n",
    "X1 = np.concatenate([one1,t1],axis = 1)\n",
    "one2 = np.ones(shape=(np.shape(t2)[0],1))\n",
    "X2 = np.concatenate([one2,t2],axis = 1)\n",
    "\n",
    "acf1 = acf(data1.Mean,nlags=np.shape(data1.Mean)[0],fft=False)\n",
    "sigma1 = data1.Mean.var()*sc.linalg.toeplitz(acf1)\n",
    "GLS_reg1 = sm.GLS(data1.Mean,X1,sigma1).fit()\n",
    "\n",
    "acf2 = acf(data2.Mean,nlags=np.shape(data2.Mean)[0],fft=False)\n",
    "sigma2 = data2.Mean.var()*sc.linalg.toeplitz(acf2)\n",
    "GLS_reg2 = sm.GLS(data2.Mean,X2,sigma2).fit()\n",
    "\n",
    "acf_ = acf(data_Y.Mean,nlags=np.shape(data_Y.Mean)[0],fft=False)\n",
    "sigma_ = data_Y.Mean.var()*sc.linalg.toeplitz(acf_)\n",
    "GLS_reg = sm.GLS(data_Y.Mean,X,sigma_).fit()\n",
    "\n",
    "coef1 = GLS_reg1.params\n",
    "coef2 = GLS_reg2.params\n",
    "coef = GLS_reg.params\n",
    "\n",
    "f = lambda x: coef[0]+coef[1]*x\n",
    "f1 = lambda x: coef1[0]+coef1[1]*x\n",
    "f2 = lambda x: coef2[0]+coef2[1]*x\n",
    "f_split = lambda x: (x<break_year)*f1(x)+(x>=break_year)*f2(x)"
   ]
  },
  {
   "cell_type": "code",
   "execution_count": 91,
   "id": "62ac9bc2",
   "metadata": {},
   "outputs": [],
   "source": [
    "#On sauvegarde les summary pour les deux régréssion\n",
    "summa1 = GLS_reg1.summary()\n",
    "summa2 = GLS_reg2.summary()\n",
    "summa = GLS_reg.summary()\n",
    "print()\n",
    "# Holm-Bonferroni's Procedure avec alpha = 0.1 pour joindre les deux tests \n",
    "\n",
    "g = open('txt/summary1901-1962_GLS.txt','w')\n",
    "g.write(summa1.as_latex())\n",
    "g.close()\n",
    "g = open('txt/summary1962-2021_GLS.txt','w')\n",
    "g.write(summa2.as_latex())\n",
    "g.close()\n",
    "g = open('txt/summary_GLS.txt','w')\n",
    "g.write(summa.as_latex())\n",
    "g.close()"
   ]
  },
  {
   "cell_type": "code",
   "execution_count": 73,
   "id": "d92c45dd",
   "metadata": {},
   "outputs": [],
   "source": [
    "#Plot split-regression\n",
    "fig = plt.figure(figsize=(9,5), dpi=300, tight_layout = True)\n",
    "fig.suptitle(\"Modelisation of the trend by GLS on two succesive period\",y = 0.95,size='x-large',weight = 'roman')\n",
    "\n",
    "plt.plot(data1.Years,f_split(data1.Years),'r',label='1901-1961 GLS fit')\n",
    "plt.plot(data2.Years,f_split(data2.Years),'b',label='1962-2021 GLS fit')\n",
    "plt.plot(data_Y.Years,data_Y.Mean,'grey')\n",
    "\n",
    "plt.xlabel('Year')\n",
    "plt.ylabel('Temperature (°C)')\n",
    "fig.legend(['1901-1961 GLS fit','1962-2021 GLS fit'],loc = (0.11,0.8))\n",
    "\n",
    "plt.savefig('figure/GLS_split_period', dpi=300, bbox_inches='tight')\n",
    "plt.close()"
   ]
  },
  {
   "cell_type": "code",
   "execution_count": 74,
   "id": "8b0bdd87",
   "metadata": {},
   "outputs": [],
   "source": [
    "#Plot entiere regression\n",
    "fig = plt.figure(figsize=(9,5), dpi=300, tight_layout = True)\n",
    "fig.suptitle(\"Modelisation of the trend by GLS\",y = 0.95,size='x-large',weight = 'roman')\n",
    "\n",
    "plt.plot(Years,f(Years),label = '1901-2021 GLS fit')\n",
    "plt.plot(data_Y.Years,data_Y.Mean,'grey')\n",
    "\n",
    "plt.xlabel('Year')\n",
    "plt.ylabel('Temperature (°C)')\n",
    "fig.legend(['1901-2021 GLS fit'],loc = (0.11,0.84))\n",
    "\n",
    "plt.savefig('figure/GLS_full_period', dpi=300, bbox_inches='tight')\n",
    "plt.close()"
   ]
  },
  {
   "cell_type": "code",
   "execution_count": 182,
   "id": "faea3138",
   "metadata": {},
   "outputs": [],
   "source": [
    "#On fixe la tendance comme étant la tendance calculé sur deux période\n",
    "data_Y[\"Mean_detrended\"] = data_Y.Mean-f_split(Years)"
   ]
  },
  {
   "cell_type": "code",
   "execution_count": 188,
   "id": "f81489c2",
   "metadata": {},
   "outputs": [],
   "source": [
    "fig = plt.figure(figsize=(9,5), dpi=300, tight_layout = True)\n",
    "fig.suptitle(\"Detrended mean temperature\",y = 1,size='x-large',weight = 'roman')\n",
    "\n",
    "plt.plot(data_Y.Mean_detrended,'grey')\n",
    "\n",
    "plt.xlabel('Years')\n",
    "plt.ylabel('Temeprature (°C)')\n",
    "\n",
    "plt.savefig('figure/detrended_mean_temperature', dpi=300, bbox_inches='tight')\n",
    "plt.close()"
   ]
  },
  {
   "cell_type": "code",
   "execution_count": 184,
   "id": "16735f9b",
   "metadata": {},
   "outputs": [],
   "source": [
    "plot_ljung_pierce(data_Y.Mean_detrended,semilog_y = False,loca = (0.78,0.66),closefig=True\n",
    "                 ,fname = 'figure/Detrended_mean_Ljung_Pierce.png')\n",
    "plot_acf_pacf(data_Y.Mean_detrended,lag=50, title = 'ACF and PACF of annual detrended mean temperature'\n",
    "              ,closefig=True,fname = 'figure/Detrended_mean_acf_pacf.png')"
   ]
  },
  {
   "cell_type": "code",
   "execution_count": 25,
   "id": "7d9aed11",
   "metadata": {},
   "outputs": [],
   "source": [
    "#Stationarity test on detrended mean with addfuller\n",
    "test_addfuller = adfuller(data_Y.Mean_detrended, maxlag=None, regression='nc', autolag='AIC'\n",
    "                          , store=False, regresults=True)\n",
    "\n",
    "g = open('txt/addfullerTest_annual.txt','a')\n",
    "g.write(\"Annual detrended mean (no constant) : p-value = \"+str(test_addfuller[1])+'\\n')\n",
    "g.close()"
   ]
  },
  {
   "cell_type": "code",
   "execution_count": 114,
   "id": "c9092d4e",
   "metadata": {},
   "outputs": [],
   "source": [
    "#Model selection using AIC\n",
    "p = np.array(np.arange(0,4))\n",
    "q = np.array(np.arange(0,10))\n",
    "\n",
    "param = np.array([np.array([int(pp),int(qq)]) for pp in p for qq in q])\n",
    "\n",
    "AIC = np.zeros(shape=(np.shape(param)[0],))\n",
    "\n",
    "model_selection = pd.DataFrame(np.array([param[:,0],param[:,1],AIC]).T, columns = [\"param_p\",\"param_q\",\"AIC\"])\n",
    "\n",
    "for i, (pp,qq) in enumerate(param):\n",
    "    arma_mod = ARIMA(data_Y.Mean_detrended, order=(pp,0,qq)).fit(method = 'innovations_mle')\n",
    "    model_selection.AIC[i] = arma_mod.aic\n",
    "\n",
    "i = np.argmin(model_selection.AIC)\n",
    "mod = model_selection.to_latex()\n",
    "\n",
    "g = open('txt/ModelSelection_annual.txt','w')\n",
    "g.write(mod)\n",
    "g.close()"
   ]
  },
  {
   "cell_type": "code",
   "execution_count": 115,
   "id": "450af044",
   "metadata": {},
   "outputs": [
    {
     "name": "stdout",
     "output_type": "stream",
     "text": [
      "2\n"
     ]
    }
   ],
   "source": [
    "print(i)"
   ]
  },
  {
   "cell_type": "code",
   "execution_count": 113,
   "id": "7d1127aa",
   "metadata": {},
   "outputs": [],
   "source": [
    "fig = plt.figure(figsize=(9,5), dpi=300, tight_layout = True)\n",
    "fig.suptitle(\"Model selection for the detrended mean\",y = 1,size='x-large',weight = 'roman')\n",
    "\n",
    "plt.plot(range(0,10),model_selection[model_selection.param_p == 0].AIC,'o-')\n",
    "plt.plot(range(0,10),model_selection[model_selection.param_p == 1].AIC,'-o')\n",
    "plt.plot(range(0,10),model_selection[model_selection.param_p == 2].AIC,'o-')\n",
    "plt.plot(range(0,10),model_selection[model_selection.param_p == 3].AIC,'-o')\n",
    "\n",
    "plt.xlabel('MA(q) parameters')\n",
    "plt.ylabel('AIC')\n",
    "qq = ['q=0','q=1','q=2','q=3','q=4','q=5','q=6','q=7','q=8','q=9']\n",
    "plt.xticks(range(0,10),qq)\n",
    "fig.legend(['p=0','p=1','p=2','p=3'],loc = (0.10,0.67))\n",
    "\n",
    "plt.savefig('figure/detrended_mean_model_selection_AIC', dpi=300, bbox_inches='tight')\n",
    "plt.close()"
   ]
  },
  {
   "cell_type": "code",
   "execution_count": 156,
   "id": "e064eea1",
   "metadata": {},
   "outputs": [],
   "source": [
    "#We choose the model ARMA(0,2) with the AIC\n",
    "p = 0\n",
    "q = 2\n",
    "\n",
    "arma_mod = ARIMA(data_Y.Mean_detrended, order=(p,0,q)).fit(method='innovations_mle')\n",
    "res = arma_mod.resid "
   ]
  },
  {
   "cell_type": "code",
   "execution_count": 157,
   "id": "eef2684e",
   "metadata": {},
   "outputs": [],
   "source": [
    "summary = arma_mod.summary()\n",
    "\n",
    "g = open('txt/ModelSelection_annual.txt','w')\n",
    "g.write(summary.as_latex())\n",
    "g.close()"
   ]
  },
  {
   "cell_type": "code",
   "execution_count": 158,
   "id": "75ecf407",
   "metadata": {},
   "outputs": [],
   "source": [
    "fig = plt.figure(figsize=(9,5), dpi=300, tight_layout = True)\n",
    "fig.suptitle(\"Residus of the ARMA(0,2) model\",y = 0.97,size='x-large',weight = 'roman')\n",
    "\n",
    "plt.plot(Years,res,'grey')\n",
    "\n",
    "plt.xlabel('Years')\n",
    "plt.ylabel('Temperature (°C)')\n",
    "\n",
    "plt.savefig('figure/detrended_mean_residu', dpi=300, bbox_inches='tight')\n",
    "plt.close()"
   ]
  },
  {
   "cell_type": "code",
   "execution_count": 159,
   "id": "31bb88f0",
   "metadata": {},
   "outputs": [
    {
     "name": "stdout",
     "output_type": "stream",
     "text": [
      "Normality test : p-value = 0.724945701756591\n",
      "Heteroskedasticity test : p-value = 0.15657168727289075\n"
     ]
    }
   ],
   "source": [
    "plot_ljung_pierce(res,semilog_y = False,loca = (0.78,0.66),df = p+q,closefig=True,fname='figure/LjungBox_Pierce_residu')\n",
    "norm_test = arma_mod.test_normality(method='jarquebera')\n",
    "hetero_test = arma_mod.test_heteroskedasticity(method='breakvar')\n",
    "\n",
    "g = open('txt/Annual_resid_normalityCheck.txt','w')\n",
    "g.write('Normality test : p-value = '+str(norm_test[0,1])+'\\n'+'Heteroskedasticity test : p-value = '+str(hetero_test[0,1]))\n",
    "g.close()"
   ]
  },
  {
   "cell_type": "code",
   "execution_count": 190,
   "id": "c5585a54",
   "metadata": {},
   "outputs": [],
   "source": [
    "plot_test_U_MannWhitney(res,alt = 'two-sided',loca = (0.085,0.73),closefig=True,fname='figure/MannWhitneyTeytU.png')\n"
   ]
  },
  {
   "cell_type": "code",
   "execution_count": 31,
   "id": "bf71b313",
   "metadata": {},
   "outputs": [],
   "source": [
    "# If we model the trend directly with the ARIMA model: Model selection with AIC\n",
    "\n",
    "p = np.array(np.arange(0,4))\n",
    "q = np.array(np.arange(0,10))\n",
    "\n",
    "param = np.array([np.array([int(pp),int(qq)]) for pp in p for qq in q])\n",
    "\n",
    "AIC = np.zeros(shape=(np.shape(param)[0],))\n",
    "\n",
    "model_selection = pd.DataFrame(np.array([param[:,0],param[:,1],AIC]).T, columns = [\"param_p\",\"param_q\",\"AIC\"])\n",
    "\n",
    "for i, (pp,qq) in enumerate(param):\n",
    "    arma_mod = ARIMA(data_Y.Mean, order=(pp,0,qq),trend='ct').fit(method = 'innovations_mle')\n",
    "    model_selection.AIC[i] = arma_mod.aic\n",
    "\n",
    "i = np.argmin(model_selection.AIC)\n",
    "mod = model_selection.to_latex()\n",
    "\n",
    "g = open('txt/ModelSelection_annual_trendARIMA.txt','w')\n",
    "g.write(mod)\n",
    "g.close()"
   ]
  },
  {
   "cell_type": "code",
   "execution_count": 32,
   "id": "2ea9a456",
   "metadata": {},
   "outputs": [],
   "source": [
    "fig = plt.figure(figsize=(5,3), dpi=300, tight_layout = True)\n",
    "fig.suptitle(\"Model selection for the mean\",y = 0.91,size='x-large',weight = 'roman')\n",
    "\n",
    "plt.plot(range(0,10),model_selection[model_selection.param_p == 0].AIC,'o-')\n",
    "plt.plot(range(0,10),model_selection[model_selection.param_p == 1].AIC,'-o')\n",
    "plt.plot(range(0,10),model_selection[model_selection.param_p == 2].AIC,'o-')\n",
    "plt.plot(range(0,10),model_selection[model_selection.param_p == 3].AIC,'-o')\n",
    "\n",
    "plt.xlabel('MA(q) parameters')\n",
    "plt.ylabel('AIC')\n",
    "qq = ['q=0','q=1','q=2','q=3','q=4','q=5','q=6','q=7','q=8','q=9']\n",
    "plt.xticks(range(0,10),qq)\n",
    "fig.legend(['p=0','p=1','p=2','p=3'],loc = (0.8,0.55))\n",
    "\n",
    "plt.savefig('figure/mean_model_selection_AIC', dpi=300, bbox_inches='tight')\n",
    "plt.close()\n"
   ]
  },
  {
   "cell_type": "code",
   "execution_count": 33,
   "id": "35280ea2",
   "metadata": {},
   "outputs": [],
   "source": [
    "#We choose the model ARMA(0,2) with the AIC\n",
    "p = 1\n",
    "q = 1\n",
    "\n",
    "arma_mod = ARIMA(data_Y.Mean, order=(p,0,q),trend='ct').fit(method='innovations_mle')\n",
    "res = arma_mod.resid \n",
    "coef = arma_mod.params"
   ]
  },
  {
   "cell_type": "code",
   "execution_count": 34,
   "id": "b6d589b7",
   "metadata": {},
   "outputs": [],
   "source": [
    "f = lambda x: coef[0]+coef[1]*x\n",
    "data_Y['Mean_ARIMA_Detrend'] = data_Y.Mean-f(range(np.shape(data_Y.Mean)[0]))\n",
    "\n",
    "fig = plt.figure(figsize=(5,3), dpi=300, tight_layout = True)\n",
    "fig.suptitle(\"Annual mean and trend fit with ARMA(1,1)\",y = 0.93,size='x-large',weight = 'roman')\n",
    "\n",
    "plt.plot(Years,data_Y.Mean,'grey')\n",
    "plt.plot(Years,f(range(np.shape(data_Y.Mean)[0])),'k')\n",
    "\n",
    "plt.xlabel('Year')\n",
    "plt.ylabel('Temperature (°C)')\n",
    "\n",
    "plt.savefig('figure/Annual_mean_ARIMAtrend', dpi=300, bbox_inches='tight')\n",
    "plt.close()"
   ]
  },
  {
   "cell_type": "code",
   "execution_count": 35,
   "id": "9a590178",
   "metadata": {},
   "outputs": [],
   "source": [
    "summary = arma_mod.summary()\n",
    "g = open('txt/ModelSelection_annual_trendARIMA.txt','w')\n",
    "g.write(summary.as_latex())\n",
    "g.close()"
   ]
  },
  {
   "cell_type": "code",
   "execution_count": 36,
   "id": "c8b91886",
   "metadata": {},
   "outputs": [],
   "source": [
    "plot_ljung_pierce(res,semilog_y = False,loca = (0.78,0.66),df = p+q,closefig=True,fname='')\n",
    "norm_test = arma_mod.test_normality(method='jarquebera')\n",
    "hetero_test = arma_mod.test_heteroskedasticity(method='breakvar')\n",
    "\n",
    "g = open('txt/Annual_resid_normalityCheck.txt','w')\n",
    "g.write('Normality test : p-value = '+str(norm_test[0,1])+'\\n'+'Heteroskedasticity test : p-value = '+str(hetero_test[0,1]))\n",
    "g.close()"
   ]
  },
  {
   "cell_type": "markdown",
   "id": "66ca11d2",
   "metadata": {},
   "source": [
    "# Little change in the model and in the tests"
   ]
  },
  {
   "cell_type": "code",
   "execution_count": 333,
   "id": "2524d35c",
   "metadata": {},
   "outputs": [],
   "source": [
    "# Regression with adding of a constant in 1962\n",
    "tol_conv = 1e-010\n",
    "n = np.shape(data_Y.Mean)[0]\n",
    "t = np.array(data_Y.Years).reshape((n,1))\n",
    "one_1962 = np.array([int(y>=break_year) for y in Years]).reshape((n,1))\n",
    "Xx = np.concatenate([one,one_1962,t],axis = 1)\n",
    "\n",
    "acf_x = acf(data_Y.Mean,nlags=n,fft=False)\n",
    "sigma_x = data_Y.Mean.var()*sc.linalg.toeplitz(acf_x)\n",
    "sigma_prec = np.eye(n)\n",
    "GLS_reg_x = sm.GLS(data_Y.Mean,Xx,sigma_x).fit()\n",
    "res = GLS_reg_x.resid\n",
    "\n",
    "while (np.linalg.norm(sigma_x-sigma_prec)>tol_conv):\n",
    "    acf_x = acf(res,nlags=n,fft=False)\n",
    "    sigma_prec = sigma_x\n",
    "    sigma_x = res.var()*sc.linalg.toeplitz(acf_x)\n",
    "    GLS_reg_x = sm.GLS(data_Y.Mean,Xx,sigma_x).fit()\n",
    "    \n",
    "coef_cst = GLS_reg_x.params\n",
    "Log_like_with_cst = GLS_reg_x.llf\n",
    "CI_trend = GLS_reg_x.conf_int().loc[\"x2\"]"
   ]
  },
  {
   "cell_type": "code",
   "execution_count": 35,
   "id": "bcf2bede",
   "metadata": {},
   "outputs": [],
   "source": [
    "# Regression without adding of a constant in 1962\n",
    "tol_conv = 1e-010\n",
    "n = np.shape(data_Y.Mean)[0]\n",
    "t = np.array(data_Y.Years).reshape((n,1))\n",
    "X = np.concatenate([one,t],axis = 1)\n",
    "\n",
    "acf_ = acf(data_Y.Mean,nlags=n,fft=False)\n",
    "sigma_ = data_Y.Mean.var()*sc.linalg.toeplitz(acf_)\n",
    "sigma_prec = np.eye(n)\n",
    "GLS_reg_ = sm.GLS(data_Y.Mean,X,sigma_).fit()\n",
    "res = GLS_reg_.resid\n",
    "\n",
    "while (np.linalg.norm(sigma_-sigma_prec)>tol_conv):\n",
    "    acf_ = acf(res,nlags=n,fft=False)\n",
    "    sigma_prec = sigma_\n",
    "    sigma_ = res.var()*sc.linalg.toeplitz(acf_)\n",
    "    GLS_reg_ = sm.GLS(data_Y.Mean,X,sigma_).fit()\n",
    "    \n",
    "coef = GLS_reg_.params\n",
    "Log_like_without_cst = GLS_reg_.llf"
   ]
  },
  {
   "cell_type": "code",
   "execution_count": 47,
   "id": "bd48de17",
   "metadata": {},
   "outputs": [
    {
     "data": {
      "text/plain": [
       "2.0245622494479025e-07"
      ]
     },
     "execution_count": 47,
     "metadata": {},
     "output_type": "execute_result"
    }
   ],
   "source": [
    "# We do a likelihood ratio test in order to know if we can remove de correction constant add in 1962\n",
    "likelihood_ratio = -2*(Log_like_without_cst-Log_like_with_cst)\n",
    "p = sc.stats.distributions.chi2(1).sf(likelihood_ratio)\n",
    "# The p-value p = 2.0245622494479025e-07 is much smaller than any signifivance treshold alpha (0.05 for example)\n",
    "# therefore we can reject the null hypothesis."
   ]
  },
  {
   "cell_type": "code",
   "execution_count": 336,
   "id": "537c0129",
   "metadata": {},
   "outputs": [
    {
     "name": "stdout",
     "output_type": "stream",
     "text": [
      "13.73740836677596\n"
     ]
    }
   ],
   "source": [
    "f_cst = lambda x: coef_cst[0]+coef_cst[1]*(x>=break_year)+coef_cst[2]*x\n",
    "f_cst_low = lambda x: coef_cst[0]+coef_cst[1]*(x>=break_year)+CI_trend[0]*x\n",
    "\n",
    "#Plot entiere regression\n",
    "fig = plt.figure(figsize=(9,5), dpi=300, tight_layout = True)\n",
    "fig.suptitle(\"Modelisation of the trend by GLS\",y = 0.95,size='x-large',weight = 'roman')\n",
    "\n",
    "plt.plot(Years,f_cst(Years),label = '1901-2021 GLS fit')\n",
    "plt.plot(Years,data_Y.Mean,'grey')\n",
    "\n",
    "plt.xlabel('Year')\n",
    "plt.ylabel('Temperature (°C)')\n",
    "fig.legend(['1901-2021 GLS fit'],loc = (0.11,0.84))\n",
    "\n",
    "plt.savefig('figure/GLS_full_period_with_cst', dpi=300, bbox_inches='tight')\n",
    "plt.close()"
   ]
  },
  {
   "cell_type": "code",
   "execution_count": 54,
   "id": "bb86ea36",
   "metadata": {},
   "outputs": [],
   "source": [
    "#On fixe la tendance comme étant la tendance calculé sur deux période\n",
    "data_Y[\"Mean_detrended\"] = data_Y.Mean-f_cst(Years)"
   ]
  },
  {
   "cell_type": "code",
   "execution_count": 56,
   "id": "014cfd73",
   "metadata": {},
   "outputs": [],
   "source": [
    "fig = plt.figure(figsize=(9,5), dpi=300, tight_layout = True)\n",
    "fig.suptitle(\"Detrended mean temperature\",y = 1,size='x-large',weight = 'roman')\n",
    "\n",
    "plt.plot(data_Y.Mean_detrended,'grey')\n",
    "\n",
    "plt.xlabel('Years')\n",
    "plt.ylabel('Temeprature (°C)')\n",
    "\n",
    "plt.savefig('figure/detrended_mean_temperature_cst', dpi=300, bbox_inches='tight')\n",
    "plt.close()"
   ]
  },
  {
   "cell_type": "code",
   "execution_count": 71,
   "id": "5d471f79",
   "metadata": {},
   "outputs": [],
   "source": [
    "plot_ljung_pierce(data_Y.Mean_detrended,semilog_y = True,loca = (0.78,0.66),closefig=True\n",
    "                 ,fname = 'figure/Detrended_mean_Ljung_Pierce_cst.png')\n",
    "plot_acf_pacf(data_Y.Mean_detrended,lag=50, title = 'ACF and PACF of annual detrended mean temperature'\n",
    "              ,closefig=True,fname = 'figure/Detrended_mean_acf_pacf_cst.png')"
   ]
  },
  {
   "cell_type": "code",
   "execution_count": 88,
   "id": "5b314bd9",
   "metadata": {},
   "outputs": [],
   "source": [
    "#Stationarity test on detrended mean with addfuller\n",
    "test_addfuller = adfuller(data_Y.Mean_detrended, maxlag=None, regression='n', autolag='AIC'\n",
    "                          , store=False, regresults=True)\n",
    "\n",
    "g = open('txt/addfullerTest_annual_cst.txt','a')\n",
    "g.write(\"Annual detrended mean (no constant) : p-value = \"+str(test_addfuller[1])+'\\n')\n",
    "g.close()\n",
    "# The p-value is p = 4.6028267668758874e-07 so we can easily reject the null hypothesis and we could \n",
    "# think that the time series is stationary"
   ]
  },
  {
   "cell_type": "code",
   "execution_count": 89,
   "id": "e4d0750a",
   "metadata": {},
   "outputs": [],
   "source": [
    "#Model selection using AIC\n",
    "p = np.array(np.arange(0,4))\n",
    "q = np.array(np.arange(0,10))\n",
    "\n",
    "param = np.array([np.array([int(pp),int(qq)]) for pp in p for qq in q])\n",
    "\n",
    "AIC = np.zeros(shape=(np.shape(param)[0],))\n",
    "\n",
    "model_selection = pd.DataFrame(np.array([param[:,0],param[:,1],AIC]).T, columns = [\"param_p\",\"param_q\",\"AIC\"])\n",
    "\n",
    "for i, (pp,qq) in enumerate(param):\n",
    "    arma_mod = ARIMA(data_Y.Mean_detrended, order=(pp,0,qq)).fit(method = 'innovations_mle')\n",
    "    model_selection.AIC[i] = arma_mod.aic\n",
    "\n",
    "i = np.argmin(model_selection.AIC)\n",
    "mod = model_selection.to_latex()\n",
    "\n",
    "g = open('txt/ModelSelection_annual_cst.txt','w')\n",
    "g.write(mod)\n",
    "g.close()"
   ]
  },
  {
   "cell_type": "code",
   "execution_count": 90,
   "id": "0bec3d8f",
   "metadata": {},
   "outputs": [],
   "source": [
    "fig = plt.figure(figsize=(9,5), dpi=300, tight_layout = True)\n",
    "fig.suptitle(\"Model selection for the detrended mean\",y = 1,size='x-large',weight = 'roman')\n",
    "\n",
    "plt.plot(range(0,10),model_selection[model_selection.param_p == 0].AIC,'o-')\n",
    "plt.plot(range(0,10),model_selection[model_selection.param_p == 1].AIC,'-o')\n",
    "plt.plot(range(0,10),model_selection[model_selection.param_p == 2].AIC,'o-')\n",
    "plt.plot(range(0,10),model_selection[model_selection.param_p == 3].AIC,'-o')\n",
    "\n",
    "plt.xlabel('MA(q) parameters')\n",
    "plt.ylabel('AIC')\n",
    "qq = ['q=0','q=1','q=2','q=3','q=4','q=5','q=6','q=7','q=8','q=9']\n",
    "plt.xticks(range(0,10),qq)\n",
    "fig.legend(['p=0','p=1','p=2','p=3'],loc = (0.10,0.67))\n",
    "\n",
    "plt.savefig('figure/detrended_mean_model_selection_AIC_cst', dpi=300, bbox_inches='tight')\n",
    "plt.close()"
   ]
  },
  {
   "cell_type": "code",
   "execution_count": 284,
   "id": "949e3a49",
   "metadata": {},
   "outputs": [],
   "source": [
    "#We choose the model ARMA(2,0) with the AIC\n",
    "p = 2\n",
    "q = 0\n",
    "\n",
    "arma_mod = ARIMA(data_Y.Mean_detrended, order=(p,0,q)).fit(method='innovations_mle')\n",
    "res = arma_mod.resid \n",
    "data_Y[\"resid\"] = res\n",
    "param = np.array(arma_mod.params)"
   ]
  },
  {
   "cell_type": "code",
   "execution_count": 114,
   "id": "5bb58b4c",
   "metadata": {},
   "outputs": [],
   "source": [
    "summary = arma_mod.summary()\n",
    "\n",
    "g = open('txt/ModelSelection_annual_cst.txt','w')\n",
    "g.write(summary.as_latex())\n",
    "g.close()"
   ]
  },
  {
   "cell_type": "code",
   "execution_count": 115,
   "id": "897e4b3d",
   "metadata": {},
   "outputs": [],
   "source": [
    "fig = plt.figure(figsize=(9,5), dpi=300, tight_layout = True)\n",
    "fig.suptitle(\"Residus of the ARMA(2,0) model\",y = 0.97,size='x-large',weight = 'roman')\n",
    "\n",
    "plt.plot(Years,res,'grey')\n",
    "\n",
    "plt.xlabel('Years')\n",
    "plt.ylabel('Temperature (°C)')\n",
    "\n",
    "plt.savefig('figure/detrended_mean_residu_cst', dpi=300, bbox_inches='tight')\n",
    "plt.close()"
   ]
  },
  {
   "cell_type": "code",
   "execution_count": 125,
   "id": "18f5f649",
   "metadata": {},
   "outputs": [],
   "source": [
    "plot_ljung_pierce(res,semilog_y = False,loca = (0.78,0.66),df = p+q,closefig=True,fname='figure/LjungBox_Pierce_residu_cst')\n",
    "norm_test = arma_mod.test_normality(method='jarquebera')\n",
    "hetero_test = arma_mod.test_heteroskedasticity(method='breakvar')\n",
    "\n",
    "g = open('txt/Annual_resid_normalityCheck_cst.txt','w')\n",
    "g.write('Normality test : p-value = '+str(norm_test[0,1])+'\\n'+'Heteroskedasticity test : p-value = '+str(hetero_test[0,1]))\n",
    "g.close()\n",
    "\n",
    "# We can see that the p-values of all Ljung-Box test ,... , are all above the treshold 0.05 therefore we cannot \n",
    "# reject the null hypothesis of independance, and we also cannot reject the nulls hypothesis for the normality \n",
    "# test and the heteroskedasticity test. Thus we reasonably could think that the residus are iid Gaussian"
   ]
  },
  {
   "cell_type": "code",
   "execution_count": 113,
   "id": "82b4eade",
   "metadata": {},
   "outputs": [],
   "source": [
    "plot_test_U_MannWhitney(res,alt = 'two-sided',loca = (0.685,0.77),closefig=True,fname='figure/MannWhitneyTeytU_cst.png')"
   ]
  },
  {
   "cell_type": "code",
   "execution_count": 345,
   "id": "761f73ed",
   "metadata": {},
   "outputs": [],
   "source": [
    "# forecast method specific for our case\n",
    "def forecast(data,n_forecast, phi,last):\n",
    "    y = np.arange(int(last)+1,int(last)+n_forecast+1)\n",
    "    residus = sc.stats.norm(loc=data.resid.mean(),scale=np.sqrt(phi[-1])).rvs(size=n_forecast)\n",
    "    predict = np.array(phi[0]+np.array(data[data.Years == float(last-1)].resid)*phi[2]+\n",
    "                       np.array(data[data.Years == float(last)].resid)*phi[1] + residus[0])\n",
    "    predict = np.concatenate([predict,np.array(phi[0]+np.array(data[data.Years == last].resid*phi[2]+\n",
    "                                                               predict[0])*phi[1]+ residus[1])])\n",
    "    for i in range(2,n_forecast):\n",
    "        predict = np.concatenate([predict,np.array([phi[0]+predict[i-2]*phi[2]+predict[i-1]*phi[1]+ residus[i]])])\n",
    "    predict = predict + f_cst(y)\n",
    "    return predict\n"
   ]
  },
  {
   "cell_type": "code",
   "execution_count": 346,
   "id": "e94918d3",
   "metadata": {},
   "outputs": [
    {
     "data": {
      "image/png": "[encoded data removed]",
      "text/plain": [
       "<Figure size 2160x360 with 1 Axes>"
      ]
     },
     "metadata": {},
     "output_type": "display_data"
    }
   ],
   "source": [
    "\n",
    "plt.figure(figsize=(30,5))\n",
    "plt.plot(data_Y.Mean)\n",
    "for i in range(10):\n",
    "    predict = forecast(data_Y, 121, param, 2021)\n",
    "    new_mean = np.concatenate([np.array(data_Y[data_Y.Years<=2021].Mean),predict])\n",
    "    plt.plot(new_mean)\n"
   ]
  },
  {
   "cell_type": "code",
   "execution_count": null,
   "id": "6eedfca2",
   "metadata": {},
   "outputs": [],
   "source": []
  },
  {
   "cell_type": "code",
   "execution_count": 267,
   "id": "31f3054f",
   "metadata": {},
   "outputs": [],
   "source": []
  },
  {
   "cell_type": "code",
   "execution_count": 194,
   "id": "6fbe812e",
   "metadata": {},
   "outputs": [],
   "source": []
  },
  {
   "cell_type": "code",
   "execution_count": 197,
   "id": "a5274593",
   "metadata": {},
   "outputs": [
    {
     "data": {
      "text/plain": [
       "<matplotlib.collections.PolyCollection at 0x122a53700>"
      ]
     },
     "execution_count": 197,
     "metadata": {},
     "output_type": "execute_result"
    },
    {
     "data": {
      "image/png": "[encoded data removed]",
      "text/plain": [
       "<Figure size 432x288 with 1 Axes>"
      ]
     },
     "metadata": {},
     "output_type": "display_data"
    }
   ],
   "source": [
    "fig, ax = plt.subplots()\n",
    "sim_conf.iloc[0,].plot(ax=ax)\n",
    "ax.fill_between(str_Years, sim_conf.iloc[2,],\n",
    "                sim_conf.iloc[3,], alpha=0.1)"
   ]
  },
  {
   "cell_type": "code",
   "execution_count": null,
   "id": "cadfa9b5",
   "metadata": {},
   "outputs": [],
   "source": []
  },
  {
   "cell_type": "code",
   "execution_count": null,
   "id": "511b4613",
   "metadata": {},
   "outputs": [],
   "source": []
  },
  {
   "cell_type": "code",
   "execution_count": null,
   "id": "f92a521c",
   "metadata": {},
   "outputs": [],
   "source": []
  }
 ],
 "metadata": {
  "kernelspec": {
   "display_name": "Python 3 (ipykernel)",
   "language": "python",
   "name": "python3"
  },
  "language_info": {
   "codemirror_mode": {
    "name": "ipython",
    "version": 3
   },
   "file_extension": ".py",
   "mimetype": "text/x-python",
   "name": "python",
   "nbconvert_exporter": "python",
   "pygments_lexer": "ipython3",
   "version": "3.8.8"
  }
 },
 "nbformat": 4,
 "nbformat_minor": 5
}
