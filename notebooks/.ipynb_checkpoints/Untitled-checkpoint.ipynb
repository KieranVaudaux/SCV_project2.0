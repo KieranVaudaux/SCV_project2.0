{
 "cells": [
  {
   "cell_type": "code",
   "execution_count": 16,
   "id": "8d47f150",
   "metadata": {},
   "outputs": [],
   "source": [
    "import scipy as sc\n",
    "import matplotlib as mpl\n",
    "import matplotlib.pyplot as plt\n",
    "import seaborn as sns\n",
    "import numpy as np\n",
    "import pandas as pd\n",
    "from datetime import datetime\n",
    "from datetime import date\n",
    "import statistics as st\n",
    "from statsmodels.tsa.seasonal import seasonal_decompose\n",
    "from statsmodels.tsa.seasonal import STL\n",
    "from statsmodels.tsa.arima.model import ARIMA\n",
    "from statsmodels.tsa.stattools import adfuller, kpss\n",
    "from statsmodels.distributions.empirical_distribution import ECDF\n",
    "from TimeSerie_fct import create_monthly_avg_time_serie\n",
    "import statsmodels.api as sm\n",
    "from sklearn.linear_model import LinearRegression\n",
    "from statsmodels.tsa.stattools import acf, pacf\n",
    "import os\n",
    "\n",
    "\n",
    "\n",
    "data_temperature = pd.read_table('../data/observatoire-geneve/TG_STAID000241.txt',sep = ',',\n",
    "                                names = ['SOUID','DATE','TG','Q_TG'], skiprows = range(0,20))\n",
    "\n",
    "data_temperature.drop(data_temperature[ data_temperature['Q_TG'] == 9 ].index, inplace = True)\n",
    "data_temperature['Year'] = [int(str(d)[:4]) for d in data_temperature.DATE]\n",
    "data_temperature['Month'] = [int(str(d)[4:6]) for d in data_temperature.DATE]\n",
    "data_temperature['Day'] = [int(str(d)[6:8]) for d in data_temperature.DATE]\n",
    "\n",
    "#Compute the day of the year for each year\n",
    "day_of_year = np.array(len(data_temperature['Day']))\n",
    "\n",
    "adate = [datetime.strptime(str(date),\"%Y%m%d\") for date in data_temperature.DATE]\n",
    "data_temperature['Day_of_year'] = [d.timetuple().tm_yday for d in adate]\n",
    "data_temperature.TG = data_temperature.TG/10."
   ]
  },
  {
   "cell_type": "code",
   "execution_count": 17,
   "id": "ca5224e6",
   "metadata": {},
   "outputs": [],
   "source": [
    "df = data_temperature"
   ]
  },
  {
   "cell_type": "markdown",
   "id": "d3dd0392",
   "metadata": {},
   "source": [
    "# Regression with ARMA Errors"
   ]
  },
  {
   "cell_type": "code",
   "execution_count": 18,
   "id": "b6c1707c",
   "metadata": {},
   "outputs": [
    {
     "ename": "TypeError",
     "evalue": "acf() got an unexpected keyword argument 'nlag'",
     "output_type": "error",
     "traceback": [
      "\u001b[0;31m---------------------------------------------------------------------------\u001b[0m",
      "\u001b[0;31mTypeError\u001b[0m                                 Traceback (most recent call last)",
      "\u001b[0;32m<ipython-input-18-99212e97126f>\u001b[0m in \u001b[0;36m<module>\u001b[0;34m\u001b[0m\n\u001b[1;32m      1\u001b[0m \u001b[0mdf\u001b[0m\u001b[0;34m[\u001b[0m\u001b[0;34m\"centered_TG\"\u001b[0m\u001b[0;34m]\u001b[0m \u001b[0;34m=\u001b[0m \u001b[0mdf\u001b[0m\u001b[0;34m.\u001b[0m\u001b[0mTG\u001b[0m\u001b[0;34m-\u001b[0m\u001b[0mdf\u001b[0m\u001b[0;34m.\u001b[0m\u001b[0mTG\u001b[0m\u001b[0;34m.\u001b[0m\u001b[0mmean\u001b[0m\u001b[0;34m(\u001b[0m\u001b[0;34m)\u001b[0m\u001b[0;34m\u001b[0m\u001b[0;34m\u001b[0m\u001b[0m\n\u001b[0;32m----> 2\u001b[0;31m \u001b[0mauto_corr_fct\u001b[0m \u001b[0;34m=\u001b[0m \u001b[0macf\u001b[0m\u001b[0;34m(\u001b[0m\u001b[0mdf\u001b[0m\u001b[0;34m.\u001b[0m\u001b[0mcentered_TG\u001b[0m\u001b[0;34m,\u001b[0m \u001b[0mnlag\u001b[0m \u001b[0;34m=\u001b[0m \u001b[0;36m400\u001b[0m\u001b[0;34m)\u001b[0m\u001b[0;34m\u001b[0m\u001b[0;34m\u001b[0m\u001b[0m\n\u001b[0m\u001b[1;32m      3\u001b[0m \u001b[0mauto_corr_fct\u001b[0m\u001b[0;34m\u001b[0m\u001b[0;34m\u001b[0m\u001b[0m\n",
      "\u001b[0;32m~/opt/anaconda3/lib/python3.8/site-packages/pandas/util/_decorators.py\u001b[0m in \u001b[0;36mwrapper\u001b[0;34m(*args, **kwargs)\u001b[0m\n\u001b[1;32m    197\u001b[0m                 \u001b[0;32melse\u001b[0m\u001b[0;34m:\u001b[0m\u001b[0;34m\u001b[0m\u001b[0;34m\u001b[0m\u001b[0m\n\u001b[1;32m    198\u001b[0m                     \u001b[0mkwargs\u001b[0m\u001b[0;34m[\u001b[0m\u001b[0mnew_arg_name\u001b[0m\u001b[0;34m]\u001b[0m \u001b[0;34m=\u001b[0m \u001b[0mnew_arg_value\u001b[0m\u001b[0;34m\u001b[0m\u001b[0;34m\u001b[0m\u001b[0m\n\u001b[0;32m--> 199\u001b[0;31m             \u001b[0;32mreturn\u001b[0m \u001b[0mfunc\u001b[0m\u001b[0;34m(\u001b[0m\u001b[0;34m*\u001b[0m\u001b[0margs\u001b[0m\u001b[0;34m,\u001b[0m \u001b[0;34m**\u001b[0m\u001b[0mkwargs\u001b[0m\u001b[0;34m)\u001b[0m\u001b[0;34m\u001b[0m\u001b[0;34m\u001b[0m\u001b[0m\n\u001b[0m\u001b[1;32m    200\u001b[0m \u001b[0;34m\u001b[0m\u001b[0m\n\u001b[1;32m    201\u001b[0m         \u001b[0;32mreturn\u001b[0m \u001b[0mcast\u001b[0m\u001b[0;34m(\u001b[0m\u001b[0mF\u001b[0m\u001b[0;34m,\u001b[0m \u001b[0mwrapper\u001b[0m\u001b[0;34m)\u001b[0m\u001b[0;34m\u001b[0m\u001b[0;34m\u001b[0m\u001b[0m\n",
      "\u001b[0;31mTypeError\u001b[0m: acf() got an unexpected keyword argument 'nlag'"
     ]
    }
   ],
   "source": [
    "df[\"centered_TG\"] = df.TG-df.TG.mean()\n",
    "auto_corr_fct = acf(df.centered_TG, nlag = 400)\n",
    "auto_corr_fct"
   ]
  },
  {
   "cell_type": "code",
   "execution_count": null,
   "id": "7e5b86c4",
   "metadata": {},
   "outputs": [],
   "source": []
  }
 ],
 "metadata": {
  "kernelspec": {
   "display_name": "Python 3",
   "language": "python",
   "name": "python3"
  },
  "language_info": {
   "codemirror_mode": {
    "name": "ipython",
    "version": 3
   },
   "file_extension": ".py",
   "mimetype": "text/x-python",
   "name": "python",
   "nbconvert_exporter": "python",
   "pygments_lexer": "ipython3",
   "version": "3.8.8"
  }
 },
 "nbformat": 4,
 "nbformat_minor": 5
}
